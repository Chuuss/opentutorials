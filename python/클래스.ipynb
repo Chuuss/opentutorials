{
 "cells": [
  {
   "cell_type": "code",
   "execution_count": 5,
   "metadata": {},
   "outputs": [
    {
     "name": "stdout",
     "output_type": "stream",
     "text": [
      "12345\n",
      "hello world\n",
      "A simple example class\n",
      "\n",
      "12345\n",
      "hello world\n",
      "\n"
     ]
    },
    {
     "ename": "TypeError",
     "evalue": "k() takes 0 positional arguments but 1 was given",
     "output_type": "error",
     "traceback": [
      "\u001b[1;31m---------------------------------------------------------------------------\u001b[0m",
      "\u001b[1;31mTypeError\u001b[0m                                 Traceback (most recent call last)",
      "\u001b[1;32m<ipython-input-5-d622cc902f06>\u001b[0m in \u001b[0;36m<module>\u001b[1;34m\u001b[0m\n\u001b[0;32m     22\u001b[0m \u001b[1;33m\u001b[0m\u001b[0m\n\u001b[0;32m     23\u001b[0m \u001b[0mx3\u001b[0m \u001b[1;33m=\u001b[0m \u001b[0mMyClass\u001b[0m\u001b[1;33m(\u001b[0m\u001b[1;33m)\u001b[0m\u001b[1;33m\u001b[0m\u001b[1;33m\u001b[0m\u001b[0m\n\u001b[1;32m---> 24\u001b[1;33m \u001b[0mprint\u001b[0m\u001b[1;33m(\u001b[0m\u001b[0mx3\u001b[0m\u001b[1;33m.\u001b[0m\u001b[0mk\u001b[0m\u001b[1;33m(\u001b[0m\u001b[1;33m)\u001b[0m\u001b[1;33m)\u001b[0m\u001b[1;33m\u001b[0m\u001b[1;33m\u001b[0m\u001b[0m\n\u001b[0m",
      "\u001b[1;31mTypeError\u001b[0m: k() takes 0 positional arguments but 1 was given"
     ]
    }
   ],
   "source": [
    "class MyClass:\n",
    "    \"\"\"A simple example class\"\"\"    \n",
    "    i = 12345\n",
    "\n",
    "    def f(self):\n",
    "        return 'hello world'\n",
    "    \n",
    "    def k():\n",
    "        return 'self 안썼다'\n",
    "\n",
    "x1 = MyClass()\n",
    "print(x1.i)\n",
    "print(x1.f())\n",
    "\n",
    "print(MyClass.__doc__)\n",
    "print()\n",
    "\n",
    "x2 = MyClass()\n",
    "print(x2.i)\n",
    "print(x2.f())\n",
    "print()\n",
    "\n",
    "x3 = MyClass()\n",
    "print(x3.k())"
   ]
  },
  {
   "cell_type": "code",
   "execution_count": 1,
   "metadata": {},
   "outputs": [
    {
     "ename": "TypeError",
     "evalue": "__init__() missing 2 required positional arguments: 'realpart' and 'imagpart'",
     "output_type": "error",
     "traceback": [
      "\u001b[1;31m---------------------------------------------------------------------------\u001b[0m",
      "\u001b[1;31mTypeError\u001b[0m                                 Traceback (most recent call last)",
      "\u001b[1;32m<ipython-input-1-5e254b94a0df>\u001b[0m in \u001b[0;36m<module>\u001b[1;34m\u001b[0m\n\u001b[0;32m      4\u001b[0m         \u001b[0mself\u001b[0m\u001b[1;33m.\u001b[0m\u001b[0mi\u001b[0m \u001b[1;33m=\u001b[0m \u001b[0mimagpart\u001b[0m\u001b[1;33m\u001b[0m\u001b[1;33m\u001b[0m\u001b[0m\n\u001b[0;32m      5\u001b[0m \u001b[1;33m\u001b[0m\u001b[0m\n\u001b[1;32m----> 6\u001b[1;33m \u001b[0mx1\u001b[0m \u001b[1;33m=\u001b[0m \u001b[0mComplex\u001b[0m\u001b[1;33m(\u001b[0m\u001b[1;33m)\u001b[0m\u001b[1;33m\u001b[0m\u001b[1;33m\u001b[0m\u001b[0m\n\u001b[0m\u001b[0;32m      7\u001b[0m \u001b[1;33m\u001b[0m\u001b[0m\n\u001b[0;32m      8\u001b[0m \u001b[0mx\u001b[0m \u001b[1;33m=\u001b[0m \u001b[0mComplex\u001b[0m\u001b[1;33m(\u001b[0m\u001b[1;36m3.0\u001b[0m\u001b[1;33m,\u001b[0m \u001b[1;33m-\u001b[0m\u001b[1;36m4.5\u001b[0m\u001b[1;33m)\u001b[0m\u001b[1;33m\u001b[0m\u001b[1;33m\u001b[0m\u001b[0m\n",
      "\u001b[1;31mTypeError\u001b[0m: __init__() missing 2 required positional arguments: 'realpart' and 'imagpart'"
     ]
    }
   ],
   "source": [
    "class Complex:\n",
    "    def __init__(self, realpart, imagpart):\n",
    "        self.r = realpart\n",
    "        self.i = imagpart\n",
    "\n",
    "x1 = Complex()\n",
    "        \n",
    "x = Complex(3.0, -4.5)\n",
    "print(x.r)\n",
    "print(x.i)"
   ]
  },
  {
   "cell_type": "code",
   "execution_count": 50,
   "metadata": {},
   "outputs": [
    {
     "name": "stdout",
     "output_type": "stream",
     "text": [
      "2발로 걷기\n",
      "animal body\n"
     ]
    }
   ],
   "source": [
    "class Animal:\n",
    "    body = \"animal body\"\n",
    "    \n",
    "    def walk(self):\n",
    "        return \"4발로 걷기\"\n",
    "    \n",
    "class Cat:\n",
    "    body = \"cat body\"\n",
    "    \n",
    "    def sleep(self):\n",
    "        return \"잠자기\"\n",
    "\n",
    "class Person(Animal):\n",
    "    face = \"face\"\n",
    "    \n",
    "    def walk(self):\n",
    "        return \"2발로 걷기\"\n",
    "    \n",
    "    def talk(self):\n",
    "        return \"Hi, Hello\"\n",
    "    \n",
    "p1 = Person()\n",
    "print(p1.walk())\n",
    "print(p1.body)\n"
   ]
  },
  {
   "cell_type": "code",
   "execution_count": 78,
   "metadata": {},
   "outputs": [
    {
     "name": "stdout",
     "output_type": "stream",
     "text": [
      "cat body\n",
      "4발로 걷기\n",
      "\n",
      "animal body\n",
      "4발로 걷기\n",
      "<slot wrapper '__str__' of 'object' objects>\n"
     ]
    }
   ],
   "source": [
    "class Animal:\n",
    "    body = \"animal body\"\n",
    "    foot = 4\n",
    "    \n",
    "    def walk(self):\n",
    "        return str(self.foot) + \"발로 걷기\"\n",
    "    \n",
    "class Cat(Animal):\n",
    "    body = \"cat body\"\n",
    "    \n",
    "    def sleep(self):\n",
    "        return \"잠자기\"\n",
    "\n",
    "class Person(Animal):\n",
    "    face = \"person face\"\n",
    "    foot = 2\n",
    "    \n",
    "    def walk(self):\n",
    "        self.foot = super().foot\n",
    "        return str(self.foot) + \"발로 걷기\"\n",
    "            \n",
    "    def talk(self):\n",
    "        return \"Hi, Hello\"\n",
    "    \n",
    "cat1 = Cat()\n",
    "print(cat1.body)\n",
    "print(cat1.walk())\n",
    "print()\n",
    "\n",
    "p1 = Person()\n",
    "print(p1.body)\n",
    "print(p1.walk())\n",
    "\n",
    "print(Person.__str__)"
   ]
  },
  {
   "cell_type": "code",
   "execution_count": null,
   "metadata": {},
   "outputs": [],
   "source": []
  },
  {
   "cell_type": "code",
   "execution_count": null,
   "metadata": {},
   "outputs": [],
   "source": []
  }
 ],
 "metadata": {
  "kernelspec": {
   "display_name": "Python 3",
   "language": "python",
   "name": "python3"
  },
  "language_info": {
   "codemirror_mode": {
    "name": "ipython",
    "version": 3
   },
   "file_extension": ".py",
   "mimetype": "text/x-python",
   "name": "python",
   "nbconvert_exporter": "python",
   "pygments_lexer": "ipython3",
   "version": "3.7.2"
  }
 },
 "nbformat": 4,
 "nbformat_minor": 2
}
